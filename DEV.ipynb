{
 "cells": [
  {
   "cell_type": "code",
   "execution_count": 1,
   "id": "1d8942c1-dcb3-4951-b650-22f93e1adfb1",
   "metadata": {},
   "outputs": [],
   "source": [
    "%load_ext autoreload\n",
    "%autoreload 2"
   ]
  },
  {
   "cell_type": "code",
   "execution_count": 2,
   "id": "a6f6277c-0153-4bf4-9e4a-8eb40429f966",
   "metadata": {},
   "outputs": [],
   "source": [
    "from brainviewer import NapariBrainViewer"
   ]
  },
  {
   "cell_type": "code",
   "execution_count": null,
   "id": "8c7c9923-d682-46db-bf81-e69724c5c59c",
   "metadata": {},
   "outputs": [],
   "source": []
  },
  {
   "cell_type": "code",
   "execution_count": null,
   "id": "6f55a298-8dc0-4d29-af29-a3ef5185a5d6",
   "metadata": {},
   "outputs": [],
   "source": []
  },
  {
   "cell_type": "markdown",
   "id": "30b3bec5-8ed1-4327-9bbd-f7d3bc7cc34f",
   "metadata": {},
   "source": [
    "## Generating very very bad fake neural activity"
   ]
  },
  {
   "cell_type": "code",
   "execution_count": 3,
   "id": "546720c5-17f5-4299-aedd-15d07cdaa8bd",
   "metadata": {},
   "outputs": [],
   "source": [
    "import numpy as np\n",
    "from scipy.spatial import distance_matrix\n",
    "import matplotlib.pyplot as plt"
   ]
  },
  {
   "cell_type": "code",
   "execution_count": 4,
   "id": "6a1b0d2e-cd02-4f44-a4ce-78f10f9038b1",
   "metadata": {},
   "outputs": [],
   "source": [
    "# parameters of the simulation\n",
    "space_size = 100\n",
    "s_xyz = np.array([space_size,space_size,space_size])\n",
    "\n",
    "n_regions = 15\n",
    "n_times = 3000\n",
    "n_neurons = 10000"
   ]
  },
  {
   "cell_type": "code",
   "execution_count": 5,
   "id": "7082d373-02af-4c62-9278-db84c0bcfd56",
   "metadata": {},
   "outputs": [],
   "source": [
    "# creating regions\n",
    "\n",
    "## spatial\n",
    "com_regions = np.random.uniform(low=0*s_xyz, high=s_xyz, size=(n_regions, 3)) # centers of masse\n",
    "\n",
    "\n",
    "## temporal\n",
    "p_join_regions = np.random.choice( # probabilities of 2 regions activating simultaniously\n",
    "    [0,1,0.1,0.9,0],\n",
    "    p = [0.3,0.3,0.175,0.175,0.05],\n",
    "    size=(n_regions, n_regions),\n",
    ")\n",
    "p_join_regions = ( p_join_regions + p_join_regions.conj().T )/2\n",
    "\n",
    "region_acts = np.zeros((n_times, n_regions)) # random telegraph signal for each region with p_join contraint\n",
    "p = 0.001\n",
    "ref_j = 0\n",
    "for i in range(1,n_times):\n",
    "    if np.random.rand() < p*2:\n",
    "        ref_j = np.random.randint(0,n_regions)\n",
    "    if np.random.rand() < p:\n",
    "        region_acts[i:, ref_j] = 1-region_acts[i-1, ref_j]\n",
    "    for j in range(n_regions):\n",
    "        if j == ref_j:\n",
    "            continue\n",
    "        if np.random.rand() < p_join_regions[ref_j,j]:\n",
    "            region_acts[i:,j] = region_acts[i:,ref_j]\n",
    "        else:\n",
    "            region_acts[i:,j] = 1-region_acts[i:,ref_j]"
   ]
  },
  {
   "cell_type": "code",
   "execution_count": 6,
   "id": "43cfa060-230c-428d-b54f-633e4205a682",
   "metadata": {},
   "outputs": [],
   "source": [
    "# creating neurons\n",
    "\n",
    "## spatial\n",
    "com_neurons = np.random.uniform(low=0*s_xyz, high=s_xyz, size=(n_neurons, 3)) # centers of masse\n",
    "\n",
    "\n",
    "## participation of neurons in each region\n",
    "dists = distance_matrix(com_neurons, com_regions)\n",
    "def norm_tanh(x, x0=20, width=10):\n",
    "    xmin, xmax = x.min(), x.max()\n",
    "    x = (x-xmin) / (xmax - xmin)\n",
    "    x0 = (x0-xmin) / (xmax - xmin)\n",
    "    width = (width-xmin) / (xmax - xmin)\n",
    "    y = (1 - np.tanh((x-x0)/width*np.pi))/2\n",
    "    return y/y.max()\n",
    "participation_factor = norm_tanh(dists)\n",
    "\n",
    "## temporal\n",
    "neuron_tendencies = region_acts@participation_factor.T\n",
    "neuron_spikes = np.random.poisson(neuron_tendencies*5)"
   ]
  },
  {
   "cell_type": "code",
   "execution_count": null,
   "id": "51ca3f06-b753-4824-bfff-e2f7a5f9260f",
   "metadata": {},
   "outputs": [],
   "source": []
  },
  {
   "cell_type": "code",
   "execution_count": null,
   "id": "8116b0e6-a307-457c-9cfc-a6f9092f05b7",
   "metadata": {},
   "outputs": [],
   "source": []
  },
  {
   "cell_type": "code",
   "execution_count": null,
   "id": "464251f4-b452-45c5-88bf-c1aa377208ae",
   "metadata": {},
   "outputs": [],
   "source": []
  },
  {
   "cell_type": "markdown",
   "id": "6ea9e42e-4e0f-4a23-8b14-25e422d7918e",
   "metadata": {},
   "source": [
    "## Opening the brain viewer"
   ]
  },
  {
   "cell_type": "code",
   "execution_count": 7,
   "id": "749eaaec-d06d-4a6d-81c0-2910249edbf3",
   "metadata": {},
   "outputs": [],
   "source": [
    "nbv = NapariBrainViewer()"
   ]
  },
  {
   "cell_type": "markdown",
   "id": "8bde5ca4-3420-4b19-800d-c83930b44a15",
   "metadata": {},
   "source": [
    "## Scatter Neurons"
   ]
  },
  {
   "cell_type": "code",
   "execution_count": 8,
   "id": "72ec50e8-6e69-4c7e-8eb7-8b553bea97fd",
   "metadata": {},
   "outputs": [],
   "source": [
    "layer_com = nbv.points(com_neurons, blending=\"translucent_no_depth\", size=2)"
   ]
  },
  {
   "cell_type": "markdown",
   "id": "242c27d2-c904-4176-8276-e10cd0f0e637",
   "metadata": {},
   "source": [
    "## Scatter neurons with single frame activity"
   ]
  },
  {
   "cell_type": "code",
   "execution_count": 9,
   "id": "4cf6aa3a-d740-41e2-a76e-1dae0afe53e1",
   "metadata": {},
   "outputs": [],
   "source": [
    "from brainviewer import cm_inferno_alpha"
   ]
  },
  {
   "cell_type": "code",
   "execution_count": 10,
   "id": "6be49bbb-2506-434c-b6a9-54da3bac8160",
   "metadata": {},
   "outputs": [],
   "source": [
    "layer_activity = nbv.points(\n",
    "    com_neurons, neuron_spikes[50,:], \n",
    "    cmap=cm_inferno_alpha, crange=(0,+5), \n",
    "    blending=\"translucent_no_depth\",\n",
    "    size=2,\n",
    ")"
   ]
  },
  {
   "cell_type": "code",
   "execution_count": 11,
   "id": "d5656313-a0b5-40bb-9843-ec2dcc3d151b",
   "metadata": {},
   "outputs": [],
   "source": [
    "layer_activity.features = {\"val\":neuron_spikes[63,:]}"
   ]
  },
  {
   "cell_type": "code",
   "execution_count": 12,
   "id": "30dee17d-5c48-43b8-94c2-5d20c31e7d96",
   "metadata": {},
   "outputs": [],
   "source": [
    "from qtpy.QtWidgets import QSlider, QLabel, QHBoxLayout, QWidget, QPushButton, QDoubleSpinBox\n",
    "from qtpy.QtCore import Qt, QTimer"
   ]
  },
  {
   "cell_type": "code",
   "execution_count": 13,
   "id": "6ebc9de4-3ea3-46a4-863f-0b567cfe549d",
   "metadata": {},
   "outputs": [],
   "source": [
    "def slider_callback(i):\n",
    "    layer_activity.features = {\"val\":neuron_spikes[i,:]}\n",
    "\n",
    "class TimeSlider(QWidget):\n",
    "    def __init__(self, n_times, callback):\n",
    "        super().__init__()\n",
    "        self.n = n_times\n",
    "        self.callback = callback\n",
    "\n",
    "        # Timer for automatic slider movement\n",
    "        self.timer = QTimer(self)\n",
    "        self.timer.timeout.connect(self._advance_slider)\n",
    "\n",
    "        self.setLayout(QHBoxLayout())\n",
    "        self.layout().addWidget(QLabel(\"Time Slider\"))\n",
    "\n",
    "        self.playbutton = QPushButton(\"Play\")\n",
    "        self.playbutton.setCheckable(True)\n",
    "        self.playbutton.clicked.connect(self._toogle_play)\n",
    "        self.playbutton.setStyleSheet(\"background-color : black\")\n",
    "        self.layout().addWidget(self.playbutton)\n",
    "\n",
    "        self.fps_control = QDoubleSpinBox()\n",
    "        self.fps_control.setRange(0.1, 100.0)  # Set FPS range from 0.1 to 100\n",
    "        self.fps_control.setDecimals(1)  # Allow one decimal place\n",
    "        self.fps_control.setValue(5.0)  # Default FPS value\n",
    "        self.fps_control.setSuffix(\" FPS\")  # Add suffix to indicate FPS\n",
    "        self.fps_control.valueChanged.connect(self._update_timer_interval)  # Update timer when FPS changes\n",
    "        self.layout().addWidget(self.fps_control)\n",
    "\n",
    "        self.slider = QSlider(Qt.Horizontal)\n",
    "        self.slider.setMinimum(0)\n",
    "        self.slider.setMaximum(self.n-1)\n",
    "        self.slider.setValue(self.n//2)\n",
    "        self.slider.setTickPosition(QSlider.TicksBelow)\n",
    "        self.slider.setTickInterval(1)\n",
    "        self.layout().addWidget(self.slider)\n",
    "        self.slider.valueChanged.connect(self._valuechanged)\n",
    "    \n",
    "        self.timelabel = QLabel(self._time_label(self.n//2))\n",
    "        self.layout().addWidget(self.timelabel)\n",
    "\n",
    "    def _time_label(self, i):\n",
    "        return f\" t={i} \"\n",
    "\n",
    "    def _valuechanged(self):\n",
    "        i = self.slider.value()\n",
    "        self.timelabel.setText(self._time_label(i))\n",
    "        self.callback(i)\n",
    "\n",
    "    def _toogle_play(self):\n",
    "        if self.playbutton.isChecked():\n",
    "            self.playbutton.setStyleSheet(\"background-color : darkgrey\")\n",
    "            self.playbutton.setText(\"Pause\")\n",
    "            self._update_timer_interval()\n",
    "            self.timer.start()\n",
    "        else:\n",
    "            self.playbutton.setStyleSheet(\"background-color : black\")\n",
    "            self.playbutton.setText(\"Play\")\n",
    "            self.timer.stop()\n",
    "\n",
    "    def _advance_slider(self):\n",
    "        current_value = self.slider.value()\n",
    "        if current_value < self.n - 1:\n",
    "            self.slider.setValue(current_value + 1)\n",
    "        else:\n",
    "            self.slider.setValue(0)\n",
    "\n",
    "    def _update_timer_interval(self):\n",
    "        fps = self.fps_control.value()\n",
    "        interval = 1000 / fps  # Convert FPS to milliseconds (1000 ms per second)\n",
    "        self.timer.setInterval(int(interval))"
   ]
  },
  {
   "cell_type": "code",
   "execution_count": 14,
   "id": "d15a013f-7043-4b0f-8b2d-3c791b519b0b",
   "metadata": {},
   "outputs": [],
   "source": [
    "widget = TimeSlider(3000, slider_callback)"
   ]
  },
  {
   "cell_type": "code",
   "execution_count": 15,
   "id": "a3d5b344-3ed7-44b2-90af-3c19254f4890",
   "metadata": {
    "scrolled": true
   },
   "outputs": [],
   "source": [
    "a = nbv._v.window.add_dock_widget(widget, area=\"bottom\")"
   ]
  },
  {
   "cell_type": "code",
   "execution_count": 16,
   "id": "d933b5b6-b49e-41af-9a23-09aefc5efea5",
   "metadata": {},
   "outputs": [
    {
     "data": {
      "text/plain": [
       "True"
      ]
     },
     "execution_count": 16,
     "metadata": {},
     "output_type": "execute_result"
    }
   ],
   "source": [
    "widget.close()\n",
    "a.close()"
   ]
  },
  {
   "cell_type": "code",
   "execution_count": null,
   "id": "7a3f338d-32d9-46dc-aeb1-2d93ec46a245",
   "metadata": {},
   "outputs": [],
   "source": []
  },
  {
   "cell_type": "code",
   "execution_count": 20,
   "id": "0f34c5cf-6e8b-424f-a78d-eadbf8d0c8f2",
   "metadata": {},
   "outputs": [
    {
     "name": "stdout",
     "output_type": "stream",
     "text": [
      "ok\n"
     ]
    }
   ],
   "source": [
    "if (nbv._v.dims.ndim > 3) and (\"t\" in nbv._v.dims.axis_labels):\n",
    "    print(\"not ok\")\n",
    "else:\n",
    "    print(\"ok\")"
   ]
  },
  {
   "cell_type": "code",
   "execution_count": null,
   "id": "1a084eee-0335-4e9f-836c-f5f5c567a12c",
   "metadata": {},
   "outputs": [],
   "source": []
  },
  {
   "cell_type": "code",
   "execution_count": null,
   "id": "b9ee2d84-88da-4cd9-a25c-ba678e50f9f1",
   "metadata": {},
   "outputs": [],
   "source": []
  },
  {
   "cell_type": "code",
   "execution_count": null,
   "id": "928dd9e5-6d7e-4599-b08d-c4711a82973b",
   "metadata": {},
   "outputs": [],
   "source": []
  }
 ],
 "metadata": {
  "kernelspec": {
   "display_name": "Python 3 (ipykernel)",
   "language": "python",
   "name": "python3"
  },
  "language_info": {
   "codemirror_mode": {
    "name": "ipython",
    "version": 3
   },
   "file_extension": ".py",
   "mimetype": "text/x-python",
   "name": "python",
   "nbconvert_exporter": "python",
   "pygments_lexer": "ipython3",
   "version": "3.12.7"
  }
 },
 "nbformat": 4,
 "nbformat_minor": 5
}
