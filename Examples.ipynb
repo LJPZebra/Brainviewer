{
 "cells": [
  {
   "cell_type": "code",
   "id": "90fc47f1-3791-4cb8-a870-6ff11456d84e",
   "metadata": {
    "ExecuteTime": {
     "end_time": "2024-10-10T14:17:22.696575Z",
     "start_time": "2024-10-10T14:17:22.477300Z"
    }
   },
   "source": [
    "%load_ext autoreload\n",
    "%autoreload 2"
   ],
   "outputs": [
    {
     "name": "stdout",
     "output_type": "stream",
     "text": [
      "The autoreload extension is already loaded. To reload it, use:\n",
      "  %reload_ext autoreload\n"
     ]
    }
   ],
   "execution_count": 108
  },
  {
   "metadata": {
    "ExecuteTime": {
     "end_time": "2024-10-10T14:17:22.705054Z",
     "start_time": "2024-10-10T14:17:22.702671Z"
    }
   },
   "cell_type": "code",
   "source": "",
   "id": "b100aaf2d6b4d045",
   "outputs": [],
   "execution_count": null
  },
  {
   "cell_type": "code",
   "id": "d9dab963-c83f-43a0-ac40-0c0aada0a888",
   "metadata": {
    "ExecuteTime": {
     "end_time": "2024-10-10T14:17:22.769195Z",
     "start_time": "2024-10-10T14:17:22.747684Z"
    }
   },
   "source": [
    "from brainviewer import NapariBrainViewer"
   ],
   "outputs": [],
   "execution_count": 109
  },
  {
   "cell_type": "code",
   "id": "a7721faf-a905-4b4c-8fa0-e7b489743be5",
   "metadata": {
    "ExecuteTime": {
     "end_time": "2024-10-10T14:17:22.795127Z",
     "start_time": "2024-10-10T14:17:22.792786Z"
    }
   },
   "source": [],
   "outputs": [],
   "execution_count": null
  },
  {
   "cell_type": "code",
   "id": "0c75e025-1cd2-48a0-84b2-6c1813eb2f83",
   "metadata": {
    "ExecuteTime": {
     "end_time": "2024-10-10T14:17:22.840738Z",
     "start_time": "2024-10-10T14:17:22.838005Z"
    }
   },
   "source": [],
   "outputs": [],
   "execution_count": null
  },
  {
   "cell_type": "markdown",
   "id": "9811efeb-d8f8-47d9-b81c-345854bf5626",
   "metadata": {},
   "source": [
    "# Working With Point Clouds\n",
    "\n",
    "this section show examples of how to work with point clouds of neurons and there respective activities."
   ]
  },
  {
   "cell_type": "code",
   "id": "fdb41981-a11e-4704-a7ac-f5b22b98321b",
   "metadata": {
    "ExecuteTime": {
     "end_time": "2024-10-10T14:17:22.888943Z",
     "start_time": "2024-10-10T14:17:22.885458Z"
    }
   },
   "source": [],
   "outputs": [],
   "execution_count": null
  },
  {
   "cell_type": "markdown",
   "id": "920b1437-5c59-4ed1-b509-700d870cfcba",
   "metadata": {},
   "source": [
    "## Generating very very bad fake neural activity"
   ]
  },
  {
   "cell_type": "code",
   "id": "ecc63ede-cab6-47da-a953-aa3820dedd90",
   "metadata": {
    "ExecuteTime": {
     "end_time": "2024-10-10T14:17:22.952829Z",
     "start_time": "2024-10-10T14:17:22.931743Z"
    }
   },
   "source": [
    "import numpy as np\n",
    "from scipy.spatial import distance_matrix\n",
    "import matplotlib.pyplot as plt"
   ],
   "outputs": [],
   "execution_count": 110
  },
  {
   "cell_type": "code",
   "id": "5333500c-e802-4182-9dd9-70d9af0dd074",
   "metadata": {
    "ExecuteTime": {
     "end_time": "2024-10-10T14:17:22.997058Z",
     "start_time": "2024-10-10T14:17:22.976632Z"
    }
   },
   "source": [
    "# parameters of the simulation\n",
    "space_size = 100\n",
    "s_xyz = np.array([space_size,space_size,space_size])\n",
    "\n",
    "n_regions = 15\n",
    "n_times = 3000\n",
    "n_neurons = 5000"
   ],
   "outputs": [],
   "execution_count": 111
  },
  {
   "cell_type": "code",
   "id": "9faee660-99fc-4a71-8b0a-b6ed6e0e8c05",
   "metadata": {
    "ExecuteTime": {
     "end_time": "2024-10-10T14:17:23.275717Z",
     "start_time": "2024-10-10T14:17:23.021653Z"
    }
   },
   "source": [
    "# creating regions\n",
    "\n",
    "## spatial\n",
    "com_regions = np.random.uniform(low=0*s_xyz, high=s_xyz, size=(n_regions, 3)) # centers of masse\n",
    "\n",
    "\n",
    "## temporal\n",
    "p_join_regions = np.random.choice( # probabilities of 2 regions activating simultaneously\n",
    "    [0,1,0.1,0.9,0],\n",
    "    p = [0.3,0.3,0.175,0.175,0.05],\n",
    "    size=(n_regions, n_regions),\n",
    ")\n",
    "p_join_regions = ( p_join_regions + p_join_regions.conj().T )/2\n",
    "\n",
    "region_acts = np.zeros((n_times, n_regions)) # random telegraph signal for each region with p_join contraint\n",
    "p = 0.001\n",
    "ref_j = 0\n",
    "for i in range(1,n_times):\n",
    "    if np.random.rand() < p*2:\n",
    "        ref_j = np.random.randint(0,n_regions)\n",
    "    if np.random.rand() < p:\n",
    "        region_acts[i:, ref_j] = 1-region_acts[i-1, ref_j]\n",
    "    for j in range(n_regions):\n",
    "        if j == ref_j:\n",
    "            continue\n",
    "        if np.random.rand() < p_join_regions[ref_j,j]:\n",
    "            region_acts[i:,j] = region_acts[i:,ref_j]\n",
    "        else:\n",
    "            region_acts[i:,j] = 1-region_acts[i:,ref_j]"
   ],
   "outputs": [],
   "execution_count": 112
  },
  {
   "cell_type": "code",
   "id": "f76847f6-109a-49a1-ac60-3c98cdfb6921",
   "metadata": {
    "ExecuteTime": {
     "end_time": "2024-10-10T14:17:23.841443Z",
     "start_time": "2024-10-10T14:17:23.289599Z"
    }
   },
   "source": [
    "# creating neurons\n",
    "\n",
    "## spatial\n",
    "com_neurons = np.random.uniform(low=0*s_xyz, high=s_xyz, size=(n_neurons, 3)) # centers of masse\n",
    "\n",
    "\n",
    "## participation of neurons in each region\n",
    "dists = distance_matrix(com_neurons, com_regions)\n",
    "def norm_tanh(x, x0=20, width=10):\n",
    "    xmin, xmax = x.min(), x.max()\n",
    "    x = (x-xmin) / (xmax - xmin)\n",
    "    x0 = (x0-xmin) / (xmax - xmin)\n",
    "    width = (width-xmin) / (xmax - xmin)\n",
    "    y = (1 - np.tanh((x-x0)/width*np.pi))/2\n",
    "    return y/y.max()\n",
    "participation_factor = norm_tanh(dists)\n",
    "\n",
    "## temporal\n",
    "neuron_tendencies = region_acts@participation_factor.T\n",
    "neuron_spikes = np.random.poisson(neuron_tendencies*5)"
   ],
   "outputs": [],
   "execution_count": 113
  },
  {
   "cell_type": "markdown",
   "id": "b786de2a-ce09-497e-bd73-ed315bacda91",
   "metadata": {},
   "source": [
    "## Opening the brain viewer"
   ]
  },
  {
   "cell_type": "code",
   "id": "573452ab-7f91-4fcd-92f2-01b36e814810",
   "metadata": {
    "ExecuteTime": {
     "end_time": "2024-10-10T14:17:24.105692Z",
     "start_time": "2024-10-10T14:17:23.855516Z"
    }
   },
   "source": [
    "nbv = NapariBrainViewer()"
   ],
   "outputs": [],
   "execution_count": 114
  },
  {
   "metadata": {
    "ExecuteTime": {
     "end_time": "2024-10-10T14:17:24.146137Z",
     "start_time": "2024-10-10T14:17:24.143895Z"
    }
   },
   "cell_type": "code",
   "source": "",
   "id": "10d96c772ee06a68",
   "outputs": [],
   "execution_count": null
  },
  {
   "cell_type": "markdown",
   "id": "9cfb929a-83ab-479c-8d71-0d8cc8d05aa1",
   "metadata": {},
   "source": [
    "## Scatter Neurons"
   ]
  },
  {
   "cell_type": "code",
   "id": "a978c9fd-69d2-4363-bbe2-8059ad5dd2f6",
   "metadata": {
    "ExecuteTime": {
     "end_time": "2024-10-10T14:17:24.495732Z",
     "start_time": "2024-10-10T14:17:24.168605Z"
    }
   },
   "source": [
    "layer_com = nbv.points(com_neurons, blending=\"translucent_no_depth\", size=2)"
   ],
   "outputs": [],
   "execution_count": 115
  },
  {
   "cell_type": "markdown",
   "id": "1062d682-6a4b-4947-8e24-93133e0bfccb",
   "metadata": {},
   "source": [
    "## Scatter neurons with single frame activity"
   ]
  },
  {
   "cell_type": "code",
   "id": "afcf3297-4101-4ff1-9851-3d9f3dc69d8b",
   "metadata": {
    "ExecuteTime": {
     "end_time": "2024-10-10T14:17:24.629864Z",
     "start_time": "2024-10-10T14:17:24.610901Z"
    }
   },
   "source": [
    "from brainviewer import cm_inferno_alpha"
   ],
   "outputs": [],
   "execution_count": 116
  },
  {
   "cell_type": "code",
   "id": "918f8e37-911c-4c49-93ce-d012ed35f6d2",
   "metadata": {
    "ExecuteTime": {
     "end_time": "2024-10-10T14:17:25.024991Z",
     "start_time": "2024-10-10T14:17:24.698438Z"
    }
   },
   "source": [
    "layer_activity = nbv.points(\n",
    "    com_neurons, neuron_spikes[50,:], \n",
    "    cmap=cm_inferno_alpha, crange=(0,+5), \n",
    "    blending=\"translucent_no_depth\",\n",
    "    size=2,\n",
    ")"
   ],
   "outputs": [],
   "execution_count": 117
  },
  {
   "cell_type": "markdown",
   "id": "3ba46939-1ce8-4114-ad60-ca257826f9e3",
   "metadata": {},
   "source": [
    "## Display neuron activity as interactive line plot"
   ]
  },
  {
   "cell_type": "code",
   "id": "ca95e78a-9fe6-4d43-bce9-600045f43e45",
   "metadata": {
    "ExecuteTime": {
     "end_time": "2024-10-10T14:17:25.124588Z",
     "start_time": "2024-10-10T14:17:25.104891Z"
    }
   },
   "source": [
    "from brainviewer import ActivityViewer, PointLayerSelector"
   ],
   "outputs": [],
   "execution_count": 118
  },
  {
   "cell_type": "code",
   "id": "6fe4908b-1d84-4859-8c8d-dd31a7b00d11",
   "metadata": {
    "ExecuteTime": {
     "end_time": "2024-10-10T14:17:25.184710Z",
     "start_time": "2024-10-10T14:17:25.143637Z"
    }
   },
   "source": [
    "av = ActivityViewer(nbv)\n",
    "pls = PointLayerSelector(layer_com, av, neuron_spikes)"
   ],
   "outputs": [
    {
     "name": "stdout",
     "output_type": "stream",
     "text": [
      "INFO: Right Click on a neuron to display its activity.\n"
     ]
    }
   ],
   "execution_count": 119
  },
  {
   "cell_type": "code",
   "id": "671e736a-7c98-4dcb-ab03-2d129fda85ca",
   "metadata": {
    "ExecuteTime": {
     "end_time": "2024-10-10T14:17:25.279781Z",
     "start_time": "2024-10-10T14:17:25.277478Z"
    }
   },
   "source": [],
   "outputs": [],
   "execution_count": null
  },
  {
   "cell_type": "markdown",
   "id": "448a4037-9f17-463a-9228-9f35d40eb223",
   "metadata": {},
   "source": [
    "## Display interactive correlation maps "
   ]
  },
  {
   "cell_type": "code",
   "id": "ffa84a64-0417-4d82-ac3a-9548d0538f66",
   "metadata": {
    "ExecuteTime": {
     "end_time": "2024-10-10T14:17:25.361609Z",
     "start_time": "2024-10-10T14:17:25.342324Z"
    }
   },
   "source": [
    "from brainviewer import PointLayerPairwise\n",
    "from brainviewer import cm_seismic_alpha"
   ],
   "outputs": [],
   "execution_count": 120
  },
  {
   "cell_type": "code",
   "id": "72851b8b-8532-4c96-9fa4-184a73a891c4",
   "metadata": {
    "ExecuteTime": {
     "end_time": "2024-10-10T14:17:26.028835Z",
     "start_time": "2024-10-10T14:17:25.376453Z"
    }
   },
   "source": [
    "C = np.corrcoef(neuron_spikes.T) # correlations between neurons\n",
    "C[~np.isfinite(C)] = 0"
   ],
   "outputs": [
    {
     "name": "stderr",
     "output_type": "stream",
     "text": [
      "/home/ljp/.local/bin/miniforge3/envs/brainviewer-env/lib/python3.12/site-packages/numpy/lib/function_base.py:2897: RuntimeWarning: invalid value encountered in divide\n",
      "  c /= stddev[:, None]\n",
      "/home/ljp/.local/bin/miniforge3/envs/brainviewer-env/lib/python3.12/site-packages/numpy/lib/function_base.py:2898: RuntimeWarning: invalid value encountered in divide\n",
      "  c /= stddev[None, :]\n"
     ]
    }
   ],
   "execution_count": 121
  },
  {
   "cell_type": "code",
   "id": "47d2bc62-0a87-4a2d-948f-b6a39c588943",
   "metadata": {
    "ExecuteTime": {
     "end_time": "2024-10-10T14:17:26.107460Z",
     "start_time": "2024-10-10T14:17:26.082687Z"
    }
   },
   "source": [
    "plp = PointLayerPairwise(layer_com, C, cm_seismic_alpha, (-1,+1))"
   ],
   "outputs": [
    {
     "name": "stdout",
     "output_type": "stream",
     "text": [
      "INFO: Right Click on a neuron to display Pairwise.\n"
     ]
    }
   ],
   "execution_count": 122
  },
  {
   "metadata": {
    "ExecuteTime": {
     "end_time": "2024-10-10T15:03:53.529205Z",
     "start_time": "2024-10-10T15:03:53.487230Z"
    }
   },
   "cell_type": "code",
   "source": [
    "mat=np.random.random((5,5))\n",
    "reg = np.random.randint(0,5,3)\n",
    "\n",
    "mat[:,reg] = [0,1,0]\n",
    "\n",
    "mat"
   ],
   "id": "6aebad7747213ac2",
   "outputs": [
    {
     "data": {
      "text/plain": [
       "array([[1.        , 0.08125495, 0.        , 0.83270715, 0.        ],\n",
       "       [1.        , 0.97289868, 0.        , 0.5808309 , 0.        ],\n",
       "       [1.        , 0.21158132, 0.        , 0.89195438, 0.        ],\n",
       "       [1.        , 0.30064228, 0.        , 0.52300803, 0.        ],\n",
       "       [1.        , 0.74073785, 0.        , 0.76919376, 0.        ]])"
      ]
     },
     "execution_count": 134,
     "metadata": {},
     "output_type": "execute_result"
    }
   ],
   "execution_count": 134
  }
 ],
 "metadata": {
  "kernelspec": {
   "display_name": "Python 3 (ipykernel)",
   "language": "python",
   "name": "python3"
  },
  "language_info": {
   "codemirror_mode": {
    "name": "ipython",
    "version": 3
   },
   "file_extension": ".py",
   "mimetype": "text/x-python",
   "name": "python",
   "nbconvert_exporter": "python",
   "pygments_lexer": "ipython3",
   "version": "3.12.7"
  }
 },
 "nbformat": 4,
 "nbformat_minor": 5
}
