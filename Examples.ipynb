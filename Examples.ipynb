{
 "cells": [
  {
   "cell_type": "code",
   "execution_count": 1,
   "id": "90fc47f1-3791-4cb8-a870-6ff11456d84e",
   "metadata": {},
   "outputs": [],
   "source": [
    "%load_ext autoreload\n",
    "%autoreload 2"
   ]
  },
  {
   "cell_type": "code",
   "execution_count": 2,
   "id": "d9dab963-c83f-43a0-ac40-0c0aada0a888",
   "metadata": {},
   "outputs": [],
   "source": [
    "from brainviewer import NapariBrainViewer"
   ]
  },
  {
   "cell_type": "code",
   "execution_count": null,
   "id": "a7721faf-a905-4b4c-8fa0-e7b489743be5",
   "metadata": {},
   "outputs": [],
   "source": []
  },
  {
   "cell_type": "code",
   "execution_count": null,
   "id": "0c75e025-1cd2-48a0-84b2-6c1813eb2f83",
   "metadata": {},
   "outputs": [],
   "source": []
  },
  {
   "cell_type": "markdown",
   "id": "9811efeb-d8f8-47d9-b81c-345854bf5626",
   "metadata": {},
   "source": [
    "# Working With Point Clouds\n",
    "\n",
    "this section show examples of how to work with point clouds of neurons and there respective activities."
   ]
  },
  {
   "cell_type": "code",
   "execution_count": null,
   "id": "fdb41981-a11e-4704-a7ac-f5b22b98321b",
   "metadata": {},
   "outputs": [],
   "source": []
  },
  {
   "cell_type": "markdown",
   "id": "920b1437-5c59-4ed1-b509-700d870cfcba",
   "metadata": {},
   "source": [
    "## Generating very very bad fake neural activity"
   ]
  },
  {
   "cell_type": "code",
   "execution_count": 3,
   "id": "ecc63ede-cab6-47da-a953-aa3820dedd90",
   "metadata": {},
   "outputs": [],
   "source": [
    "import numpy as np\n",
    "from scipy.spatial import distance_matrix\n",
    "import matplotlib.pyplot as plt"
   ]
  },
  {
   "cell_type": "code",
   "execution_count": 4,
   "id": "5333500c-e802-4182-9dd9-70d9af0dd074",
   "metadata": {},
   "outputs": [],
   "source": [
    "# parameters of the simulation\n",
    "space_size = 100\n",
    "s_xyz = np.array([space_size,space_size,space_size])\n",
    "\n",
    "n_regions = 15\n",
    "n_times = 3000\n",
    "n_neurons = 5000"
   ]
  },
  {
   "cell_type": "code",
   "execution_count": 5,
   "id": "9faee660-99fc-4a71-8b0a-b6ed6e0e8c05",
   "metadata": {},
   "outputs": [],
   "source": [
    "# creating regions\n",
    "\n",
    "## spatial\n",
    "com_regions = np.random.uniform(low=0*s_xyz, high=s_xyz, size=(n_regions, 3)) # centers of masse\n",
    "\n",
    "\n",
    "## temporal\n",
    "p_join_regions = np.random.choice( # probabilities of 2 regions activating simultaniously\n",
    "    [0,1,0.1,0.9,0],\n",
    "    p = [0.3,0.3,0.175,0.175,0.05],\n",
    "    size=(n_regions, n_regions),\n",
    ")\n",
    "p_join_regions = ( p_join_regions + p_join_regions.conj().T )/2\n",
    "\n",
    "region_acts = np.zeros((n_times, n_regions)) # random telegraph signal for each region with p_join contraint\n",
    "p = 0.001\n",
    "ref_j = 0\n",
    "for i in range(1,n_times):\n",
    "    if np.random.rand() < p*2:\n",
    "        ref_j = np.random.randint(0,n_regions)\n",
    "    if np.random.rand() < p:\n",
    "        region_acts[i:, ref_j] = 1-region_acts[i-1, ref_j]\n",
    "    for j in range(n_regions):\n",
    "        if j == ref_j:\n",
    "            continue\n",
    "        if np.random.rand() < p_join_regions[ref_j,j]:\n",
    "            region_acts[i:,j] = region_acts[i:,ref_j]\n",
    "        else:\n",
    "            region_acts[i:,j] = 1-region_acts[i:,ref_j]"
   ]
  },
  {
   "cell_type": "code",
   "execution_count": 6,
   "id": "f76847f6-109a-49a1-ac60-3c98cdfb6921",
   "metadata": {},
   "outputs": [],
   "source": [
    "# creating neurons\n",
    "\n",
    "## spatial\n",
    "com_neurons = np.random.uniform(low=0*s_xyz, high=s_xyz, size=(n_neurons, 3)) # centers of masse\n",
    "\n",
    "\n",
    "## participation of neurons in each region\n",
    "dists = distance_matrix(com_neurons, com_regions)\n",
    "def norm_tanh(x, x0=20, width=10):\n",
    "    xmin, xmax = x.min(), x.max()\n",
    "    x = (x-xmin) / (xmax - xmin)\n",
    "    x0 = (x0-xmin) / (xmax - xmin)\n",
    "    width = (width-xmin) / (xmax - xmin)\n",
    "    y = (1 - np.tanh((x-x0)/width*np.pi))/2\n",
    "    return y/y.max()\n",
    "participation_factor = norm_tanh(dists)\n",
    "\n",
    "## temporal\n",
    "neuron_tendencies = region_acts@participation_factor.T\n",
    "neuron_spikes = np.random.poisson(neuron_tendencies*5)"
   ]
  },
  {
   "cell_type": "code",
   "execution_count": null,
   "id": "ac050534-a631-4d83-8624-e2cc74bd8db4",
   "metadata": {},
   "outputs": [],
   "source": []
  },
  {
   "cell_type": "markdown",
   "id": "b786de2a-ce09-497e-bd73-ed315bacda91",
   "metadata": {},
   "source": [
    "## Opening the brain viewer"
   ]
  },
  {
   "cell_type": "code",
   "execution_count": 7,
   "id": "573452ab-7f91-4fcd-92f2-01b36e814810",
   "metadata": {},
   "outputs": [],
   "source": [
    "nbv = NapariBrainViewer()"
   ]
  },
  {
   "cell_type": "markdown",
   "id": "9cfb929a-83ab-479c-8d71-0d8cc8d05aa1",
   "metadata": {},
   "source": [
    "## Scatter Neurons"
   ]
  },
  {
   "cell_type": "code",
   "execution_count": 8,
   "id": "a978c9fd-69d2-4363-bbe2-8059ad5dd2f6",
   "metadata": {},
   "outputs": [],
   "source": [
    "layer_com = nbv.points(com_neurons, blending=\"translucent_no_depth\", size=2)"
   ]
  },
  {
   "cell_type": "markdown",
   "id": "1062d682-6a4b-4947-8e24-93133e0bfccb",
   "metadata": {},
   "source": [
    "## Scatter neurons with single frame activity"
   ]
  },
  {
   "cell_type": "code",
   "execution_count": 11,
   "id": "afcf3297-4101-4ff1-9851-3d9f3dc69d8b",
   "metadata": {},
   "outputs": [],
   "source": [
    "from brainviewer import cm_inferno_alpha"
   ]
  },
  {
   "cell_type": "code",
   "execution_count": 12,
   "id": "918f8e37-911c-4c49-93ce-d012ed35f6d2",
   "metadata": {},
   "outputs": [],
   "source": [
    "layer_activity = nbv.points(\n",
    "    com_neurons, neuron_spikes[50,:], \n",
    "    cmap=cm_inferno_alpha, crange=(0,+5), \n",
    "    blending=\"translucent_no_depth\",\n",
    "    size=2,\n",
    ")"
   ]
  },
  {
   "cell_type": "markdown",
   "id": "3ba46939-1ce8-4114-ad60-ca257826f9e3",
   "metadata": {},
   "source": [
    "## Display neuron activity as interactive line plot"
   ]
  },
  {
   "cell_type": "code",
   "execution_count": 9,
   "id": "ca95e78a-9fe6-4d43-bce9-600045f43e45",
   "metadata": {},
   "outputs": [],
   "source": [
    "from brainviewer import ActivityViewer, PointLayerSelector"
   ]
  },
  {
   "cell_type": "code",
   "execution_count": 10,
   "id": "6fe4908b-1d84-4859-8c8d-dd31a7b00d11",
   "metadata": {},
   "outputs": [
    {
     "name": "stdout",
     "output_type": "stream",
     "text": [
      "INFO: Right Click on a neuron to display its activity.\n"
     ]
    }
   ],
   "source": [
    "av = ActivityViewer(nbv)\n",
    "pls = PointLayerSelector(layer_com, av, neuron_spikes)"
   ]
  },
  {
   "cell_type": "code",
   "execution_count": null,
   "id": "671e736a-7c98-4dcb-ab03-2d129fda85ca",
   "metadata": {},
   "outputs": [],
   "source": []
  },
  {
   "cell_type": "markdown",
   "id": "448a4037-9f17-463a-9228-9f35d40eb223",
   "metadata": {},
   "source": [
    "## Display interactive correlation maps "
   ]
  },
  {
   "cell_type": "code",
   "execution_count": 13,
   "id": "ffa84a64-0417-4d82-ac3a-9548d0538f66",
   "metadata": {},
   "outputs": [],
   "source": [
    "from brainviewer import PointLayerPairwise\n",
    "from brainviewer import cm_seismic_alpha"
   ]
  },
  {
   "cell_type": "code",
   "execution_count": 16,
   "id": "72851b8b-8532-4c96-9fa4-184a73a891c4",
   "metadata": {},
   "outputs": [
    {
     "name": "stderr",
     "output_type": "stream",
     "text": [
      "/home/matteo/Programs/BrainViewer/brainviewer/activity.py:43: UserWarning: Attempting to set identical low and high ylims makes transformation singular; automatically expanding.\n",
      "  self.ax.set_ylim(mmin, mmax)\n",
      "/home/matteo/Programs/BrainViewer/brainviewer/activity.py:43: UserWarning: Attempting to set identical low and high ylims makes transformation singular; automatically expanding.\n",
      "  self.ax.set_ylim(mmin, mmax)\n",
      "/home/matteo/Programs/BrainViewer/brainviewer/activity.py:43: UserWarning: Attempting to set identical low and high ylims makes transformation singular; automatically expanding.\n",
      "  self.ax.set_ylim(mmin, mmax)\n",
      "/home/matteo/Programs/BrainViewer/brainviewer/activity.py:43: UserWarning: Attempting to set identical low and high ylims makes transformation singular; automatically expanding.\n",
      "  self.ax.set_ylim(mmin, mmax)\n",
      "/home/matteo/Programs/BrainViewer/brainviewer/activity.py:43: UserWarning: Attempting to set identical low and high ylims makes transformation singular; automatically expanding.\n",
      "  self.ax.set_ylim(mmin, mmax)\n",
      "/home/matteo/Programs/BrainViewer/brainviewer/activity.py:43: UserWarning: Attempting to set identical low and high ylims makes transformation singular; automatically expanding.\n",
      "  self.ax.set_ylim(mmin, mmax)\n",
      "/home/matteo/Programs/BrainViewer/brainviewer/activity.py:43: UserWarning: Attempting to set identical low and high ylims makes transformation singular; automatically expanding.\n",
      "  self.ax.set_ylim(mmin, mmax)\n",
      "/home/matteo/Programs/BrainViewer/brainviewer/activity.py:43: UserWarning: Attempting to set identical low and high ylims makes transformation singular; automatically expanding.\n",
      "  self.ax.set_ylim(mmin, mmax)\n",
      "/home/matteo/Programs/BrainViewer/brainviewer/activity.py:43: UserWarning: Attempting to set identical low and high ylims makes transformation singular; automatically expanding.\n",
      "  self.ax.set_ylim(mmin, mmax)\n",
      "/home/matteo/Programs/BrainViewer/brainviewer/activity.py:43: UserWarning: Attempting to set identical low and high ylims makes transformation singular; automatically expanding.\n",
      "  self.ax.set_ylim(mmin, mmax)\n",
      "/home/matteo/Programs/BrainViewer/brainviewer/activity.py:43: UserWarning: Attempting to set identical low and high ylims makes transformation singular; automatically expanding.\n",
      "  self.ax.set_ylim(mmin, mmax)\n"
     ]
    }
   ],
   "source": [
    "C = np.corrcoef(neuron_spikes.T) # correlations between neurons\n",
    "C[~np.isfinite(C)] = 0"
   ]
  },
  {
   "cell_type": "code",
   "execution_count": 15,
   "id": "47d2bc62-0a87-4a2d-948f-b6a39c588943",
   "metadata": {},
   "outputs": [
    {
     "name": "stdout",
     "output_type": "stream",
     "text": [
      "INFO: Right Click on a neuron to display Pairwise.\n"
     ]
    }
   ],
   "source": [
    "plp = PointLayerPairwise(layer_com, C, cm_seismic_alpha, (-1,+1))"
   ]
  },
  {
   "cell_type": "code",
   "execution_count": null,
   "id": "454c6618-4008-4c47-80dd-358d6bccbb95",
   "metadata": {},
   "outputs": [],
   "source": []
  },
  {
   "cell_type": "code",
   "execution_count": null,
   "id": "82b3cb11-17d9-41c4-b65d-ca536edd664c",
   "metadata": {},
   "outputs": [],
   "source": []
  },
  {
   "cell_type": "code",
   "execution_count": null,
   "id": "c2b123b6-0bfb-478b-ac6a-f48ef00c18a2",
   "metadata": {},
   "outputs": [],
   "source": []
  },
  {
   "cell_type": "code",
   "execution_count": null,
   "id": "0861092a-716c-4154-9206-b22c6b190367",
   "metadata": {},
   "outputs": [],
   "source": []
  },
  {
   "cell_type": "code",
   "execution_count": null,
   "id": "04233b83-bfc3-4b60-a378-89923dd59d8a",
   "metadata": {},
   "outputs": [],
   "source": []
  }
 ],
 "metadata": {
  "kernelspec": {
   "display_name": "Python 3 (ipykernel)",
   "language": "python",
   "name": "python3"
  },
  "language_info": {
   "codemirror_mode": {
    "name": "ipython",
    "version": 3
   },
   "file_extension": ".py",
   "mimetype": "text/x-python",
   "name": "python",
   "nbconvert_exporter": "python",
   "pygments_lexer": "ipython3",
   "version": "3.12.7"
  }
 },
 "nbformat": 4,
 "nbformat_minor": 5
}
