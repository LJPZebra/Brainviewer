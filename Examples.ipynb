{
 "cells": [
  {
   "cell_type": "code",
   "id": "90fc47f1-3791-4cb8-a870-6ff11456d84e",
   "metadata": {},
   "source": [
    "%load_ext autoreload\n",
    "%autoreload 2"
   ],
   "outputs": [],
   "execution_count": null
  },
  {
   "cell_type": "code",
   "id": "d9dab963-c83f-43a0-ac40-0c0aada0a888",
   "metadata": {},
   "source": "from brainviewer import NapariBrainViewer, cm_inferno_alpha",
   "outputs": [],
   "execution_count": null
  },
  {
   "cell_type": "markdown",
   "id": "9811efeb-d8f8-47d9-b81c-345854bf5626",
   "metadata": {},
   "source": [
    "# Working With Point Clouds\n",
    "\n",
    "this section show examples of how to work with point clouds of neurons and their respective activities."
   ]
  },
  {
   "cell_type": "markdown",
   "id": "920b1437-5c59-4ed1-b509-700d870cfcba",
   "metadata": {},
   "source": [
    "## Generating very very bad fake neural activity"
   ]
  },
  {
   "cell_type": "code",
   "id": "ecc63ede-cab6-47da-a953-aa3820dedd90",
   "metadata": {},
   "source": [
    "import numpy as np\n",
    "from scipy.spatial import distance_matrix"
   ],
   "outputs": [],
   "execution_count": null
  },
  {
   "cell_type": "code",
   "id": "5333500c-e802-4182-9dd9-70d9af0dd074",
   "metadata": {},
   "source": [
    "# parameters of the simulation\n",
    "space_size = 100\n",
    "s_xyz = np.array([space_size,space_size,space_size])\n",
    "\n",
    "n_regions = 15\n",
    "n_times = 3000\n",
    "n_neurons = 5000"
   ],
   "outputs": [],
   "execution_count": null
  },
  {
   "cell_type": "code",
   "id": "9faee660-99fc-4a71-8b0a-b6ed6e0e8c05",
   "metadata": {},
   "source": [
    "# creating regions\n",
    "\n",
    "## spatial\n",
    "com_regions = np.random.uniform(low=0*s_xyz, high=s_xyz, size=(n_regions, 3)) # centers of masse\n",
    "\n",
    "\n",
    "## temporal\n",
    "p_join_regions = np.random.choice( # probabilities of 2 regions activating simultaneously\n",
    "    [0,1,0.1,0.9,0],\n",
    "    p = [0.3,0.3,0.175,0.175,0.05],\n",
    "    size=(n_regions, n_regions),\n",
    ")\n",
    "p_join_regions = ( p_join_regions + p_join_regions.conj().T )/2\n",
    "\n",
    "region_acts = np.zeros((n_times, n_regions)) # random telegraph signal for each region with p_join contraint\n",
    "p = 0.001\n",
    "ref_j = 0\n",
    "for i in range(1,n_times):\n",
    "    if np.random.rand() < p*2:\n",
    "        ref_j = np.random.randint(0,n_regions)\n",
    "    if np.random.rand() < p:\n",
    "        region_acts[i:, ref_j] = 1-region_acts[i-1, ref_j]\n",
    "    for j in range(n_regions):\n",
    "        if j == ref_j:\n",
    "            continue\n",
    "        if np.random.rand() < p_join_regions[ref_j,j]:\n",
    "            region_acts[i:,j] = region_acts[i:,ref_j]\n",
    "        else:\n",
    "            region_acts[i:,j] = 1-region_acts[i:,ref_j]"
   ],
   "outputs": [],
   "execution_count": null
  },
  {
   "cell_type": "code",
   "id": "f76847f6-109a-49a1-ac60-3c98cdfb6921",
   "metadata": {},
   "source": [
    "# creating neurons\n",
    "\n",
    "## spatial\n",
    "com_neurons = np.random.uniform(low=0*s_xyz, high=s_xyz, size=(n_neurons, 3)) # centers of masse\n",
    "\n",
    "\n",
    "## participation of neurons in each region\n",
    "dists = distance_matrix(com_neurons, com_regions)\n",
    "def norm_tanh(x, x0=20, width=10):\n",
    "    xmin, xmax = x.min(), x.max()\n",
    "    x = (x-xmin) / (xmax - xmin)\n",
    "    x0 = (x0-xmin) / (xmax - xmin)\n",
    "    width = (width-xmin) / (xmax - xmin)\n",
    "    y = (1 - np.tanh((x-x0)/width*np.pi))/2\n",
    "    return y/y.max()\n",
    "participation_factor = norm_tanh(dists)\n",
    "\n",
    "## temporal\n",
    "neuron_tendencies = region_acts@participation_factor.T\n",
    "neuron_spikes = np.random.poisson(neuron_tendencies*5)"
   ],
   "outputs": [],
   "execution_count": null
  },
  {
   "cell_type": "markdown",
   "id": "b786de2a-ce09-497e-bd73-ed315bacda91",
   "metadata": {},
   "source": [
    "## Opening the brain viewer"
   ]
  },
  {
   "cell_type": "code",
   "id": "573452ab-7f91-4fcd-92f2-01b36e814810",
   "metadata": {},
   "source": [
    "nbv = NapariBrainViewer()"
   ],
   "outputs": [],
   "execution_count": null
  },
  {
   "cell_type": "markdown",
   "id": "9cfb929a-83ab-479c-8d71-0d8cc8d05aa1",
   "metadata": {},
   "source": [
    "## Scatter Neurons"
   ]
  },
  {
   "cell_type": "code",
   "id": "a978c9fd-69d2-4363-bbe2-8059ad5dd2f6",
   "metadata": {},
   "source": "layer_com = nbv.points(com_neurons, blending=\"translucent_no_depth\", size=2)",
   "outputs": [],
   "execution_count": null
  },
  {
   "cell_type": "markdown",
   "id": "1062d682-6a4b-4947-8e24-93133e0bfccb",
   "metadata": {},
   "source": [
    "## Scatter neurons with single frame activity"
   ]
  },
  {
   "cell_type": "code",
   "id": "918f8e37-911c-4c49-93ce-d012ed35f6d2",
   "metadata": {},
   "source": [
    "layer_activity = nbv.points(\n",
    "    com_neurons, neuron_spikes[50,:], \n",
    "    cmap=cm_inferno_alpha, crange=(0,+5), \n",
    "    blending=\"translucent_no_depth\",\n",
    "    size=2,\n",
    ")"
   ],
   "outputs": [],
   "execution_count": null
  },
  {
   "cell_type": "markdown",
   "id": "3ba46939-1ce8-4114-ad60-ca257826f9e3",
   "metadata": {},
   "source": [
    "## Display neuron activity as interactive line plot"
   ]
  },
  {
   "cell_type": "code",
   "id": "ca95e78a-9fe6-4d43-bce9-600045f43e45",
   "metadata": {},
   "source": "from brainviewer import ActivityViewer, PointLayerSelector",
   "outputs": [],
   "execution_count": null
  },
  {
   "cell_type": "code",
   "id": "6fe4908b-1d84-4859-8c8d-dd31a7b00d11",
   "metadata": {},
   "source": [
    "av = ActivityViewer(nbv)\n",
    "pls = PointLayerSelector(layer_com, av, neuron_spikes)"
   ],
   "outputs": [],
   "execution_count": null
  },
  {
   "cell_type": "markdown",
   "id": "448a4037-9f17-463a-9228-9f35d40eb223",
   "metadata": {},
   "source": [
    "## Display interactive correlation maps "
   ]
  },
  {
   "cell_type": "code",
   "id": "ffa84a64-0417-4d82-ac3a-9548d0538f66",
   "metadata": {},
   "source": "from brainviewer import PointLayerPairwise, cm_seismic_alpha",
   "outputs": [],
   "execution_count": null
  },
  {
   "cell_type": "code",
   "id": "72851b8b-8532-4c96-9fa4-184a73a891c4",
   "metadata": {},
   "source": [
    "C = np.corrcoef(neuron_spikes.T) # correlations between neurons\n",
    "C[~np.isfinite(C)] = 0;"
   ],
   "outputs": [],
   "execution_count": null
  },
  {
   "cell_type": "code",
   "id": "47d2bc62-0a87-4a2d-948f-b6a39c588943",
   "metadata": {},
   "source": "plp = PointLayerPairwise(layer_com, C, cm_seismic_alpha, (-1,+1))",
   "outputs": [],
   "execution_count": null
  },
  {
   "metadata": {},
   "cell_type": "markdown",
   "source": "## Interactive coupling maps with region selection",
   "id": "960bd9015a7a7fbe"
  },
  {
   "metadata": {},
   "cell_type": "markdown",
   "source": "### Selection of regions",
   "id": "3ea99f212e148daf"
  },
  {
   "metadata": {},
   "cell_type": "code",
   "source": [
    "import h5py\n",
    "from brainviewer import enable_selection\n",
    "\n",
    "# file_path = '/home/ljp/Documents/Training/combined.h5'\n",
    "# file = h5py.File(file_path, \"r\")\n",
    "# coords = file['Data/Brain/coords']\n",
    "\n",
    "# brain_layer = nbv.points(coords[()], size=4, name=\"Neurons\")\n",
    "brain_layer = layer_com"
   ],
   "id": "fcae75d34f61b196",
   "outputs": [],
   "execution_count": null
  },
  {
   "metadata": {},
   "cell_type": "code",
   "source": [
    "# couplings = np.load('/home/ljp/Documents/Training/couplings.npy')\n",
    "couplings = C"
   ],
   "id": "376a1e7f676bd0dd",
   "outputs": [],
   "execution_count": null
  },
  {
   "metadata": {},
   "cell_type": "code",
   "source": "enable_selection(nbv, brain_layer, couplings, cm_seismic_alpha, (0, 1e-3*couplings.max()))",
   "id": "193b44529d2f26a1",
   "outputs": [],
   "execution_count": null
  },
  {
   "metadata": {},
   "cell_type": "markdown",
   "source": "### Grid on fish brain",
   "id": "a558defe7b172f45"
  },
  {
   "metadata": {},
   "cell_type": "code",
   "source": [
    "import pandas as pd\n",
    "# # # # grid = pd.read_csv('/home/ljp/Science/CalibTotalPatterns.csv')"
   ],
   "id": "d48b59fa22051432",
   "outputs": [],
   "execution_count": null
  },
  {
   "metadata": {},
   "cell_type": "code",
   "source": [
    "# grid['x_um_cor'] = 591-grid.y_um\n",
    "# # # grid['y_um_cor'] = 591-grid.x_um"
   ],
   "id": "c6878e30bc1b170b",
   "outputs": [],
   "execution_count": null
  },
  {
   "metadata": {},
   "cell_type": "code",
   "source": [
    "# affine = np.array([[ 1.00000000e+00,  0.00000000e+00,  0.00000000e+00, 4.00000000e+01],\n",
    "#                    [ 0.00000000e+00, -2.78760308e-01,  1.06813412e+00, 3.48659345e+02],\n",
    "#                    [ 0.00000000e+00, -1.06813412e+00, -2.78760308e-01, 6.54845239e+02],\n",
    "#                    [ 0.00000000e+00,  0.00000000e+00,  0.00000000e+00, 1.00000000e+00]])"
   ],
   "id": "fb4386f4c74a1367",
   "outputs": [],
   "execution_count": null
  },
  {
   "metadata": {},
   "cell_type": "code",
   "source": "# # # # nbv.load_nrrd('/home/ljp/Science/image.nrrd', affine=affine, name='NRRD')",
   "id": "23680ec101e7d764",
   "outputs": [],
   "execution_count": null
  },
  {
   "metadata": {},
   "cell_type": "code",
   "source": [
    "# grid_points = np.array(grid[['y_um_cor', 'x_um_cor', 'z_um', ]])\n",
    "# grid_points[:,2] = 140\n",
    "# grid_layer = nbv.points(grid_points, affine=affine, name='Grid')"
   ],
   "id": "db7c189a6441527c",
   "outputs": [],
   "execution_count": null
  },
  {
   "metadata": {},
   "cell_type": "code",
   "source": "# # # # grid_layer.data",
   "id": "97b0d3a39e38c81b",
   "outputs": [],
   "execution_count": null
  }
 ],
 "metadata": {
  "kernelspec": {
   "display_name": "Python 3 (ipykernel)",
   "language": "python",
   "name": "python3"
  },
  "language_info": {
   "codemirror_mode": {
    "name": "ipython",
    "version": 3
   },
   "file_extension": ".py",
   "mimetype": "text/x-python",
   "name": "python",
   "nbconvert_exporter": "python",
   "pygments_lexer": "ipython3",
   "version": "3.12.7"
  }
 },
 "nbformat": 4,
 "nbformat_minor": 5
}
